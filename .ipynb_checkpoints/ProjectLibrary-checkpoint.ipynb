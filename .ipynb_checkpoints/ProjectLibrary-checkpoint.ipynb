{
 "cells": [
  {
   "cell_type": "code",
   "execution_count": 3,
   "metadata": {},
   "outputs": [
    {
     "name": "stdout",
     "output_type": "stream",
     "text": [
      "--------------------------------------------------------------------------------------------\n",
      "1.Add a Student to Library\n",
      "2.Add a Faculty to Library\n",
      "3.Add a Book to Library\n",
      "4.Issue Book to Student\n",
      "5.Issue Book to Faculty\n",
      "6.Return Book by Student\n",
      "7.Return Book by Faculty\n",
      "8.Print Student Records\n",
      "9.Print Faculty Records\n",
      "10.Print Book Records\n",
      "#. Exit\n",
      "---------------------------------------------------------------------------------------------\n",
      "#\n"
     ]
    },
    {
     "ename": "SystemExit",
     "evalue": "",
     "output_type": "error",
     "traceback": [
      "An exception has occurred, use %tb to see the full traceback.\n",
      "\u001b[1;31mSystemExit\u001b[0m\n"
     ]
    }
   ],
   "source": [
    "from LibraryManagement import *\n"
   ]
  },
  {
   "cell_type": "code",
   "execution_count": 1,
   "metadata": {},
   "outputs": [
    {
     "name": "stdout",
     "output_type": "stream",
     "text": [
      "Enter the enrollment no: 0187CS8908\n",
      "Enter the ISBN: 1234567890123\n",
      "Invalid Details. Try Again!!!\n"
     ]
    }
   ],
   "source": [
    "from Functions import *\n",
    "#addBook()\n",
    "#addFaculty()\n",
    "#addStudent()\n",
    "#issue_book_to_faculty()\n",
    "#issue_book_to_student()\n",
    "#printStudentDetails()\n",
    "#printFacultyDetails()\n",
    "#printBookDetails()\n",
    "#returnBookFaculty()\n",
    "#returnBookStudent()"
   ]
  },
  {
   "cell_type": "code",
   "execution_count": 2,
   "metadata": {},
   "outputs": [
    {
     "name": "stdout",
     "output_type": "stream",
     "text": [
      "1234567890123 Secret Robert Browne 15\n",
      "2345678901234 Asd qwe 6\n",
      "6789012345689 xcv hjk 3\n",
      "5678901234567 ghgfj iuuopop 5\n"
     ]
    }
   ],
   "source": [
    "import pickle\n",
    "with open(\"Book_dt.pkl\",\"rb\") as f:\n",
    "    l=pickle.load(f)\n",
    "for i,j in l.items():\n",
    "    print(i,j.title,j.author,j.no_of_copies)"
   ]
  },
  {
   "cell_type": "code",
   "execution_count": 1,
   "metadata": {},
   "outputs": [],
   "source": [
    "import pickle\n",
    "l=[]\n",
    "with open(\"Faculty_dt.pkl\",\"wb\") as f:\n",
    "    pickle.dump(l,f)"
   ]
  },
  {
   "cell_type": "code",
   "execution_count": 3,
   "metadata": {},
   "outputs": [
    {
     "name": "stdout",
     "output_type": "stream",
     "text": [
      "5\n"
     ]
    }
   ],
   "source": [
    "d={1:'a',2:'b'}"
   ]
  },
  {
   "cell_type": "code",
   "execution_count": 2,
   "metadata": {},
   "outputs": [
    {
     "name": "stdout",
     "output_type": "stream",
     "text": [
      "Nupur kshatri 0187CS1234 4 [1234567890123, 2345678901234, 5678901234567]\n",
      "Preeti Singh 0187CS3456 2 [2345678901234, 5678901234567]\n",
      "Mansi 0187CS8908 1 [2345678901234]\n",
      "Atiya 0187CS5678 0 []\n"
     ]
    }
   ],
   "source": [
    "import pickle\n",
    "l=[]\n",
    "with open(\"Student_dt.pkl\",\"rb\") as f:\n",
    "    l=pickle.load(f)\n",
    "for i in l:\n",
    "    print(i.name,i.st_roll,i.no_of_books,i.book_list)"
   ]
  },
  {
   "cell_type": "code",
   "execution_count": null,
   "metadata": {},
   "outputs": [],
   "source": []
  },
  {
   "cell_type": "code",
   "execution_count": 9,
   "metadata": {},
   "outputs": [
    {
     "ename": "NameError",
     "evalue": "name 'we' is not defined",
     "output_type": "error",
     "traceback": [
      "\u001b[1;31m---------------------------------------------------------------------------\u001b[0m",
      "\u001b[1;31mNameError\u001b[0m                                 Traceback (most recent call last)",
      "\u001b[1;32m<ipython-input-9-d5fec9d60452>\u001b[0m in \u001b[0;36m<module>\u001b[1;34m\u001b[0m\n\u001b[0;32m      4\u001b[0m \u001b[0mx\u001b[0m\u001b[1;33m=\u001b[0m\u001b[0mf\u001b[0m\u001b[1;33m(\u001b[0m\u001b[1;33m)\u001b[0m\u001b[1;33m\u001b[0m\u001b[1;33m\u001b[0m\u001b[0m\n\u001b[0;32m      5\u001b[0m \u001b[0mx\u001b[0m\u001b[1;33m=\u001b[0m\u001b[1;36m4\u001b[0m\u001b[1;33m\u001b[0m\u001b[1;33m\u001b[0m\u001b[0m\n\u001b[1;32m----> 6\u001b[1;33m \u001b[0mprint\u001b[0m\u001b[1;33m(\u001b[0m\u001b[0mwe\u001b[0m\u001b[1;33m)\u001b[0m\u001b[1;33m\u001b[0m\u001b[1;33m\u001b[0m\u001b[0m\n\u001b[0m",
      "\u001b[1;31mNameError\u001b[0m: name 'we' is not defined"
     ]
    }
   ],
   "source": [
    "def f():\n",
    "    we=[1,2,3,4]\n",
    "    return we[2]\n",
    "x=f()\n",
    "x=4\n",
    "print(we)"
   ]
  },
  {
   "cell_type": "code",
   "execution_count": 22,
   "metadata": {},
   "outputs": [
    {
     "name": "stdout",
     "output_type": "stream",
     "text": [
      "Nupur Kshatri 23456 dict_items([(1234567890123, 6), (6789012345689, 0)])\n",
      "Ashish mishra 78902 dict_items([(6789012345689, 2)])\n"
     ]
    }
   ],
   "source": [
    "import pickle\n",
    "with open(\"Faculty_dt.pkl\",\"rb\") as f:\n",
    "    l=pickle.load(f)\n",
    "for i in l:\n",
    "    print(i.ename,i.eid,i.book_list.items())"
   ]
  },
  {
   "cell_type": "code",
   "execution_count": 3,
   "metadata": {},
   "outputs": [
    {
     "name": "stdout",
     "output_type": "stream",
     "text": [
      "\f",
      "\n"
     ]
    }
   ],
   "source": [
    "clear"
   ]
  },
  {
   "cell_type": "code",
   "execution_count": null,
   "metadata": {},
   "outputs": [],
   "source": []
  }
 ],
 "metadata": {
  "kernelspec": {
   "display_name": "Python 3",
   "language": "python",
   "name": "python3"
  }
 },
 "nbformat": 4,
 "nbformat_minor": 2
}
